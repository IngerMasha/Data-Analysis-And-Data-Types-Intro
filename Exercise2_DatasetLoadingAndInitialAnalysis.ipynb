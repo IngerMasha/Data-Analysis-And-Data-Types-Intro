{
  "nbformat": 4,
  "nbformat_minor": 0,
  "metadata": {
    "colab": {
      "provenance": []
    },
    "kernelspec": {
      "name": "python3",
      "display_name": "Python 3"
    },
    "language_info": {
      "name": "python"
    }
  },
  "cells": [
    {
      "cell_type": "code",
      "execution_count": 10,
      "metadata": {
        "colab": {
          "base_uri": "https://localhost:8080/"
        },
        "id": "tHrrkGDhLa7c",
        "outputId": "a126c378-9213-4aea-9971-a4a048cef56f"
      },
      "outputs": [
        {
          "output_type": "stream",
          "name": "stdout",
          "text": [
            "   index  Year  Period  Avg hrs per day sleeping  Standard Error Type of Days  \\\n",
            "0      0  2003  Annual                      8.57           0.018     All days   \n",
            "1      1  2004  Annual                      8.55           0.026     All days   \n",
            "2      2  2005  Annual                      8.62           0.023     All days   \n",
            "3      3  2006  Annual                      8.63           0.024     All days   \n",
            "4      4  2007  Annual                      8.57           0.024     All days   \n",
            "\n",
            "           Age Group  Activity   Sex  \n",
            "0  15 years and over  Sleeping  Both  \n",
            "1  15 years and over  Sleeping  Both  \n",
            "2  15 years and over  Sleeping  Both  \n",
            "3  15 years and over  Sleeping  Both  \n",
            "4  15 years and over  Sleeping  Both  \n"
          ]
        }
      ],
      "source": [
        "import pandas as pd\n",
        "\n",
        "sleep_data = pd.read_csv('/content/sample_data/TimeAmericansSpendSleeping.csv')\n",
        "\n",
        "print(sleep_data.head())"
      ]
    },
    {
      "cell_type": "code",
      "source": [
        "print(sleep_data.info())\n",
        "\n",
        "print(sleep_data.describe())\n"
      ],
      "metadata": {
        "colab": {
          "base_uri": "https://localhost:8080/"
        },
        "id": "v6HAm_glOXFN",
        "outputId": "3e6c7286-7a81-4bae-866c-30c061f4c2a6"
      },
      "execution_count": 11,
      "outputs": [
        {
          "output_type": "stream",
          "name": "stdout",
          "text": [
            "<class 'pandas.core.frame.DataFrame'>\n",
            "RangeIndex: 945 entries, 0 to 944\n",
            "Data columns (total 9 columns):\n",
            " #   Column                    Non-Null Count  Dtype  \n",
            "---  ------                    --------------  -----  \n",
            " 0   index                     945 non-null    int64  \n",
            " 1   Year                      945 non-null    int64  \n",
            " 2   Period                    945 non-null    object \n",
            " 3   Avg hrs per day sleeping  945 non-null    float64\n",
            " 4   Standard Error            945 non-null    float64\n",
            " 5   Type of Days              945 non-null    object \n",
            " 6   Age Group                 945 non-null    object \n",
            " 7   Activity                  945 non-null    object \n",
            " 8   Sex                       945 non-null    object \n",
            "dtypes: float64(2), int64(2), object(5)\n",
            "memory usage: 66.6+ KB\n",
            "None\n",
            "            index         Year  Avg hrs per day sleeping  Standard Error\n",
            "count  945.000000   945.000000                945.000000      945.000000\n",
            "mean   472.000000  2010.000000                  8.806868        0.086958\n",
            "std    272.942302     4.322782                  0.545001        0.034631\n",
            "min      0.000000  2003.000000                  7.720000        0.018000\n",
            "25%    236.000000  2006.000000                  8.360000        0.063000\n",
            "50%    472.000000  2010.000000                  8.810000        0.084000\n",
            "75%    708.000000  2014.000000                  9.190000        0.106000\n",
            "max    944.000000  2017.000000                 10.650000        0.228000\n"
          ]
        }
      ]
    },
    {
      "cell_type": "code",
      "source": [
        "sleep_data = pd.read_csv('/content/sample_data/MentalhealthDepressiondisorderData.csv')\n",
        "\n",
        "print(sleep_data.head())\n"
      ],
      "metadata": {
        "colab": {
          "base_uri": "https://localhost:8080/"
        },
        "id": "mJPtLeBIOhMr",
        "outputId": "6ae0d4a2-af8b-4b38-8af1-2002ab051358"
      },
      "execution_count": 12,
      "outputs": [
        {
          "output_type": "stream",
          "name": "stdout",
          "text": [
            "   index       Entity Code  Year Schizophrenia (%) Bipolar disorder (%)  \\\n",
            "0      0  Afghanistan  AFG  1990           0.16056             0.697779   \n",
            "1      1  Afghanistan  AFG  1991          0.160312             0.697961   \n",
            "2      2  Afghanistan  AFG  1992          0.160135             0.698107   \n",
            "3      3  Afghanistan  AFG  1993          0.160037             0.698257   \n",
            "4      4  Afghanistan  AFG  1994          0.160022             0.698469   \n",
            "\n",
            "  Eating disorders (%)  Anxiety disorders (%)  Drug use disorders (%)  \\\n",
            "0             0.101855               4.828830                1.677082   \n",
            "1             0.099313               4.829740                1.684746   \n",
            "2             0.096692               4.831108                1.694334   \n",
            "3             0.094336               4.830864                1.705320   \n",
            "4             0.092439               4.829423                1.716069   \n",
            "\n",
            "   Depression (%)  Alcohol use disorders (%)  \n",
            "0        4.071831                   0.672404  \n",
            "1        4.079531                   0.671768  \n",
            "2        4.088358                   0.670644  \n",
            "3        4.096190                   0.669738  \n",
            "4        4.099582                   0.669260  \n"
          ]
        },
        {
          "output_type": "stream",
          "name": "stderr",
          "text": [
            "<ipython-input-12-1fe0ae82063c>:1: DtypeWarning: Columns (5,6) have mixed types. Specify dtype option on import or set low_memory=False.\n",
            "  sleep_data = pd.read_csv('/content/sample_data/MentalhealthDepressiondisorderData.csv')\n"
          ]
        }
      ]
    },
    {
      "cell_type": "code",
      "source": [
        "\n",
        "print(sleep_data.info())\n"
      ],
      "metadata": {
        "colab": {
          "base_uri": "https://localhost:8080/"
        },
        "id": "TqRt1sjSPpWy",
        "outputId": "2caf8fed-f7e0-4155-e9c1-f6e719aa0583"
      },
      "execution_count": 13,
      "outputs": [
        {
          "output_type": "stream",
          "name": "stdout",
          "text": [
            "<class 'pandas.core.frame.DataFrame'>\n",
            "RangeIndex: 108553 entries, 0 to 108552\n",
            "Data columns (total 11 columns):\n",
            " #   Column                     Non-Null Count   Dtype  \n",
            "---  ------                     --------------   -----  \n",
            " 0   index                      108553 non-null  int64  \n",
            " 1   Entity                     108553 non-null  object \n",
            " 2   Code                       103141 non-null  object \n",
            " 3   Year                       108553 non-null  object \n",
            " 4   Schizophrenia (%)          25875 non-null   object \n",
            " 5   Bipolar disorder (%)       19406 non-null   object \n",
            " 6   Eating disorders (%)       100236 non-null  object \n",
            " 7   Anxiety disorders (%)      6468 non-null    float64\n",
            " 8   Drug use disorders (%)     6468 non-null    float64\n",
            " 9   Depression (%)             6468 non-null    float64\n",
            " 10  Alcohol use disorders (%)  6468 non-null    float64\n",
            "dtypes: float64(4), int64(1), object(6)\n",
            "memory usage: 9.1+ MB\n",
            "None\n"
          ]
        }
      ]
    },
    {
      "cell_type": "code",
      "source": [
        "print(sleep_data.describe())"
      ],
      "metadata": {
        "colab": {
          "base_uri": "https://localhost:8080/"
        },
        "id": "z28_ShqQPsL6",
        "outputId": "2f7c5ce4-1047-45fb-de45-08e8b5465d93"
      },
      "execution_count": 14,
      "outputs": [
        {
          "output_type": "stream",
          "name": "stdout",
          "text": [
            "               index  Anxiety disorders (%)  Drug use disorders (%)  \\\n",
            "count  108553.000000            6468.000000             6468.000000   \n",
            "mean    54276.000000               3.989921                0.862278   \n",
            "std     31336.696223               1.167526                0.460679   \n",
            "min         0.000000               2.023393                0.383650   \n",
            "25%     27138.000000               3.188824                0.535064   \n",
            "50%     54276.000000               3.554373                0.726430   \n",
            "75%     81414.000000               4.682163                0.940157   \n",
            "max    108552.000000               8.967330                3.452476   \n",
            "\n",
            "       Depression (%)  Alcohol use disorders (%)  \n",
            "count     6468.000000                6468.000000  \n",
            "mean         3.497654                   1.585821  \n",
            "std          0.655859                   0.860283  \n",
            "min          2.139903                   0.446940  \n",
            "25%          3.005529                   0.993685  \n",
            "50%          3.499606                   1.479936  \n",
            "75%          3.912381                   1.867834  \n",
            "max          6.602754                   5.474668  \n"
          ]
        }
      ]
    },
    {
      "cell_type": "code",
      "source": [
        "sleep_data = pd.read_csv('/content/sample_data/clean_dataset.csv')\n",
        "print(sleep_data.head())"
      ],
      "metadata": {
        "colab": {
          "base_uri": "https://localhost:8080/"
        },
        "id": "0bumwPK-Qodp",
        "outputId": "c7475365-e054-431d-9e2c-00ff3122ece1"
      },
      "execution_count": 15,
      "outputs": [
        {
          "output_type": "stream",
          "name": "stdout",
          "text": [
            "   Gender    Age   Debt  Married  BankCustomer     Industry Ethnicity  \\\n",
            "0       1  30.83  0.000        1             1  Industrials     White   \n",
            "1       0  58.67  4.460        1             1    Materials     Black   \n",
            "2       0  24.50  0.500        1             1    Materials     Black   \n",
            "3       1  27.83  1.540        1             1  Industrials     White   \n",
            "4       1  20.17  5.625        1             1  Industrials     White   \n",
            "\n",
            "   YearsEmployed  PriorDefault  Employed  CreditScore  DriversLicense  \\\n",
            "0           1.25             1         1            1               0   \n",
            "1           3.04             1         1            6               0   \n",
            "2           1.50             1         0            0               0   \n",
            "3           3.75             1         1            5               1   \n",
            "4           1.71             1         0            0               0   \n",
            "\n",
            "        Citizen  ZipCode  Income  Approved  \n",
            "0       ByBirth      202       0         1  \n",
            "1       ByBirth       43     560         1  \n",
            "2       ByBirth      280     824         1  \n",
            "3       ByBirth      100       3         1  \n",
            "4  ByOtherMeans      120       0         1  \n"
          ]
        }
      ]
    },
    {
      "cell_type": "code",
      "source": [
        "print(sleep_data.info())\n"
      ],
      "metadata": {
        "colab": {
          "base_uri": "https://localhost:8080/"
        },
        "id": "unNhQvB3Qx7W",
        "outputId": "b1f35eb1-0cce-4bbd-f77f-0f5da3f8cf85"
      },
      "execution_count": 16,
      "outputs": [
        {
          "output_type": "stream",
          "name": "stdout",
          "text": [
            "<class 'pandas.core.frame.DataFrame'>\n",
            "RangeIndex: 690 entries, 0 to 689\n",
            "Data columns (total 16 columns):\n",
            " #   Column          Non-Null Count  Dtype  \n",
            "---  ------          --------------  -----  \n",
            " 0   Gender          690 non-null    int64  \n",
            " 1   Age             690 non-null    float64\n",
            " 2   Debt            690 non-null    float64\n",
            " 3   Married         690 non-null    int64  \n",
            " 4   BankCustomer    690 non-null    int64  \n",
            " 5   Industry        690 non-null    object \n",
            " 6   Ethnicity       690 non-null    object \n",
            " 7   YearsEmployed   690 non-null    float64\n",
            " 8   PriorDefault    690 non-null    int64  \n",
            " 9   Employed        690 non-null    int64  \n",
            " 10  CreditScore     690 non-null    int64  \n",
            " 11  DriversLicense  690 non-null    int64  \n",
            " 12  Citizen         690 non-null    object \n",
            " 13  ZipCode         690 non-null    int64  \n",
            " 14  Income          690 non-null    int64  \n",
            " 15  Approved        690 non-null    int64  \n",
            "dtypes: float64(3), int64(10), object(3)\n",
            "memory usage: 86.4+ KB\n",
            "None\n"
          ]
        }
      ]
    },
    {
      "cell_type": "code",
      "source": [
        "print(sleep_data.describe())"
      ],
      "metadata": {
        "colab": {
          "base_uri": "https://localhost:8080/"
        },
        "id": "CtkMIZrDQ07u",
        "outputId": "2b8048c1-761b-46dd-8e60-29ffd528c5c1"
      },
      "execution_count": 17,
      "outputs": [
        {
          "output_type": "stream",
          "name": "stdout",
          "text": [
            "           Gender         Age        Debt     Married  BankCustomer  \\\n",
            "count  690.000000  690.000000  690.000000  690.000000    690.000000   \n",
            "mean     0.695652   31.514116    4.758725    0.760870      0.763768   \n",
            "std      0.460464   11.860245    4.978163    0.426862      0.425074   \n",
            "min      0.000000   13.750000    0.000000    0.000000      0.000000   \n",
            "25%      0.000000   22.670000    1.000000    1.000000      1.000000   \n",
            "50%      1.000000   28.460000    2.750000    1.000000      1.000000   \n",
            "75%      1.000000   37.707500    7.207500    1.000000      1.000000   \n",
            "max      1.000000   80.250000   28.000000    1.000000      1.000000   \n",
            "\n",
            "       YearsEmployed  PriorDefault    Employed  CreditScore  DriversLicense  \\\n",
            "count     690.000000    690.000000  690.000000    690.00000      690.000000   \n",
            "mean        2.223406      0.523188    0.427536      2.40000        0.457971   \n",
            "std         3.346513      0.499824    0.495080      4.86294        0.498592   \n",
            "min         0.000000      0.000000    0.000000      0.00000        0.000000   \n",
            "25%         0.165000      0.000000    0.000000      0.00000        0.000000   \n",
            "50%         1.000000      1.000000    0.000000      0.00000        0.000000   \n",
            "75%         2.625000      1.000000    1.000000      3.00000        1.000000   \n",
            "max        28.500000      1.000000    1.000000     67.00000        1.000000   \n",
            "\n",
            "           ZipCode         Income    Approved  \n",
            "count   690.000000     690.000000  690.000000  \n",
            "mean    180.547826    1017.385507    0.444928  \n",
            "std     173.970323    5210.102598    0.497318  \n",
            "min       0.000000       0.000000    0.000000  \n",
            "25%      60.000000       0.000000    0.000000  \n",
            "50%     160.000000       5.000000    0.000000  \n",
            "75%     272.000000     395.500000    1.000000  \n",
            "max    2000.000000  100000.000000    1.000000  \n"
          ]
        }
      ]
    }
  ]
}