{
  "nbformat": 4,
  "nbformat_minor": 0,
  "metadata": {
    "colab": {
      "provenance": []
    },
    "kernelspec": {
      "name": "python3",
      "display_name": "Python 3"
    },
    "language_info": {
      "name": "python"
    }
  },
  "cells": [
    {
      "cell_type": "code",
      "execution_count": 1,
      "metadata": {
        "colab": {
          "base_uri": "https://localhost:8080/"
        },
        "id": "661bM-u9ZQDW",
        "outputId": "548c475f-f4ed-402e-a86c-3311cba0f8f4"
      },
      "outputs": [
        {
          "output_type": "stream",
          "name": "stdout",
          "text": [
            "   sepal_length  sepal_width  petal_length  petal_width species\n",
            "0           5.1          3.5           1.4          0.2  setosa\n",
            "1           4.9          3.0           1.4          0.2  setosa\n",
            "2           4.7          3.2           1.3          0.2  setosa\n",
            "3           4.6          3.1           1.5          0.2  setosa\n",
            "4           5.0          3.6           1.4          0.2  setosa\n"
          ]
        }
      ],
      "source": [
        "import pandas as pd\n",
        "iris_data = pd.read_csv('/content/sample_data/iris.csv')\n",
        "print(iris_data.head())"
      ]
    },
    {
      "cell_type": "markdown",
      "source": [
        "Quantitative:\n",
        "sepal_length, sepal_width, petal_length, petal_width\n",
        "Qualitative:\n",
        "species\n"
      ],
      "metadata": {
        "id": "G_o77OI7avRk"
      }
    }
  ]
}
